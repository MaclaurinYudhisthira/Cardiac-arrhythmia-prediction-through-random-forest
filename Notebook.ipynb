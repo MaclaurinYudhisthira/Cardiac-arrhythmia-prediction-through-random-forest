{
 "cells": [
  {
   "cell_type": "markdown",
   "metadata": {},
   "source": [
    "# Dataset: [https://archive.ics.uci.edu/ml/datasets/Arrhythmia](https://archive.ics.uci.edu/ml/datasets/Arrhythmia)"
   ]
  },
  {
   "cell_type": "code",
   "execution_count": 1,
   "metadata": {},
   "outputs": [],
   "source": [
    "import numpy as np\n",
    "import pandas as pd\n",
    "import matplotlib.pyplot as plt\n",
    "import seaborn as sns"
   ]
  },
  {
   "cell_type": "code",
   "execution_count": 2,
   "metadata": {},
   "outputs": [
    {
     "name": "stdout",
     "output_type": "stream",
     "text": [
      "1. Title: Cardiac Arrhythmia Database\n",
      "\n",
      "2. Sources:\n",
      "   (a) Original owners od Database:\n",
      "       -- 1. H. Altay Guvenir, PhD., \n",
      "             Bilkent University,\n",
      "             Department of Computer Engineering and Information Science,\n",
      "             06533 Ankara, Turkey\n",
      "             Phone: +90 (312) 266 4133\n",
      "             Email: guvenir@cs.bilkent.edu.tr\n",
      "\n",
      "       -- 2. Burak Acar, M.S.,\n",
      "             Bilkent University, \n",
      "             EE Eng. Dept. \n",
      "             06533 Ankara, Turkey\n",
      "             Email: buraka@ee.bilkent.edu.tr\n",
      "\n",
      "       -- 2. Haldun Muderrisoglu, M.D., Ph.D., \n",
      "             Baskent University, \n",
      "             School of Medicine\n",
      "             Ankara, Turkey\n",
      "\n",
      "   (b) Donor: H. Altay Guvenir\n",
      "              Bilkent University,\n",
      "              Department of Computer Engineering and Information Science,\n",
      "              06533 Ankara, Turkey\n",
      "              Phone: +90 (312) 266 4133\n",
      "              Email: guvenir@cs.bilkent.edu.tr\n",
      "\n",
      "   (c) Date: January, 1998\n",
      "\n",
      "3. Past Usage:\n",
      "   1. H. Altay Guvenir, Burak Acar, Gulsen Demiroz, Ayhan Cekin\n",
      "      \"A Supervised Machine Learning Algorithm for Arrhythmia Analysis\"\n",
      "      Proceedings of the Computers in Cardiology Conference, \n",
      "      Lund, Sweden, 1997.\n",
      "      \n",
      "      The aim is to determine the type of arrhythmia from \n",
      "      the ECG recordings.\n",
      "\n",
      "4. Relevant Information:\n",
      "     This database contains 279 attributes, 206 of which are linear\n",
      "     valued and the rest are nominal. \n",
      "\n",
      "     Concerning the study of H. Altay Guvenir: \"The aim is to distinguish\n",
      "     between the presence and absence of cardiac arrhythmia and to\n",
      "     classify it in one of the 16 groups. Class 01 refers to 'normal'\n",
      "     ECG classes 02 to 15 refers to different classes of arrhythmia\n",
      "     and class 16 refers to the rest of unclassified ones. For the\n",
      "     time being, there exists a computer program that makes such a\n",
      "     classification. However there are differences between the\n",
      "     cardiolog's and the programs classification. Taking the\n",
      "     cardiolog's as a gold standard we aim to minimise this difference\n",
      "     by means of machine learning tools.\"\n",
      "\n",
      "     The names and id numbers of the patients were recently \n",
      "     removed from the database.\n",
      "\n",
      "5. Number of Instances: 452\n",
      "\n",
      "6. Number of Attributes: 279\n",
      "\n",
      "7. Attribute Information:\n",
      "   -- Complete attribute documentation:\n",
      "      1 Age: Age in years , linear\n",
      "      2 Sex: Sex (0 = male; 1 = female) , nominal\n",
      "      3 Height: Height in centimeters , linear\n",
      "      4 Weight: Weight in kilograms , linear\n",
      "      5 QRS duration: Average of QRS duration in msec., linear\n",
      "      6 P-R interval: Average duration between onset of P and Q waves\n",
      "        in msec., linear\n",
      "      7 Q-T interval: Average duration between onset of Q and offset\n",
      "        of T waves in msec., linear\n",
      "      8 T interval: Average duration of T wave in msec., linear\n",
      "      9 P interval: Average duration of P wave in msec., linear\n",
      "     Vector angles in degrees on front plane of:, linear\n",
      "     10 QRS\n",
      "     11 T\n",
      "     12 P\n",
      "     13 QRST\n",
      "     14 J\n",
      "\n",
      "     15 Heart rate: Number of heart beats per minute ,linear\n",
      "    \n",
      "     Of channel DI:\n",
      "      Average width, in msec., of: linear\n",
      "      16 Q wave\n",
      "      17 R wave\n",
      "      18 S wave\n",
      "      19 R' wave, small peak just after R\n",
      "      20 S' wave\n",
      "\n",
      "      21 Number of intrinsic deflections, linear\n",
      "\n",
      "      22 Existence of ragged R wave, nominal\n",
      "      23 Existence of diphasic derivation of R wave, nominal\n",
      "      24 Existence of ragged P wave, nominal\n",
      "      25 Existence of diphasic derivation of P wave, nominal\n",
      "      26 Existence of ragged T wave, nominal\n",
      "      27 Existence of diphasic derivation of T wave, nominal\n",
      "\n",
      "     Of channel DII: \n",
      "      28 .. 39 (similar to 16 .. 27 of channel DI)\n",
      "     Of channels DIII:\n",
      "      40 .. 51\n",
      "     Of channel AVR:\n",
      "      52 .. 63\n",
      "     Of channel AVL:\n",
      "      64 .. 75\n",
      "     Of channel AVF:\n",
      "      76 .. 87\n",
      "     Of channel V1:\n",
      "      88 .. 99\n",
      "     Of channel V2:\n",
      "      100 .. 111\n",
      "     Of channel V3:\n",
      "      112 .. 123\n",
      "     Of channel V4:\n",
      "      124 .. 135\n",
      "     Of channel V5:\n",
      "      136 .. 147\n",
      "     Of channel V6:\n",
      "      148 .. 159\n",
      "\n",
      "     Of channel DI:\n",
      "      Amplitude , * 0.1 milivolt, of\n",
      "      160 JJ wave, linear\n",
      "      161 Q wave, linear\n",
      "      162 R wave, linear\n",
      "      163 S wave, linear\n",
      "      164 R' wave, linear\n",
      "      165 S' wave, linear\n",
      "      166 P wave, linear\n",
      "      167 T wave, linear\n",
      "      \n",
      "      168 QRSA , Sum of areas of all segments divided by 10,\n",
      "          ( Area= width * height / 2 ), linear\n",
      "      169 QRSTA = QRSA + 0.5 * width of T wave * 0.1 * height of T\n",
      "          wave. (If T is diphasic then the bigger segment is\n",
      "          considered), linear\n",
      "\n",
      "     Of channel DII:\n",
      "      170 .. 179\n",
      "     Of channel DIII:\n",
      "      180 .. 189\n",
      "     Of channel AVR:\n",
      "      190 .. 199\n",
      "     Of channel AVL:\n",
      "      200 .. 209\n",
      "     Of channel AVF:\n",
      "      210 .. 219\n",
      "     Of channel V1:\n",
      "      220 .. 229\n",
      "     Of channel V2:\n",
      "      230 .. 239\n",
      "     Of channel V3:\n",
      "      240 .. 249\n",
      "     Of channel V4:\n",
      "      250 .. 259\n",
      "     Of channel V5:\n",
      "      260 .. 269\n",
      "     Of channel V6:\n",
      "      270 .. 279\n",
      "      \n",
      "8. Missing Attribute Values: Several.  Distinguished with '?'.\n",
      "\n",
      "9. Class Distribution:\n",
      "       Database:  Arrhythmia\n",
      "       \n",
      "       Class code :   Class   :                       Number of instances:\n",
      "       01             Normal\t\t\t\t          245\n",
      "       02             Ischemic changes (Coronary Artery Disease)   44\n",
      "       03             Old Anterior Myocardial Infarction           15\n",
      "       04             Old Inferior Myocardial Infarction           15\n",
      "       05             Sinus tachycardy\t\t\t           13\n",
      "       06             Sinus bradycardy\t\t\t           25\n",
      "       07             Ventricular Premature Contraction (PVC)       3\n",
      "       08             Supraventricular Premature Contraction\t    2\n",
      "       09             Left bundle branch block \t\t            9\t\n",
      "       10             Right bundle branch block\t\t           50\n",
      "       11             1. degree AtrioVentricular block\t            0\t\n",
      "       12             2. degree AV block\t\t            0\n",
      "       13             3. degree AV block\t\t            0\n",
      "       14             Left ventricule hypertrophy \t            4\n",
      "       15             Atrial Fibrillation or Flutter\t            5\n",
      "       16             Others\t\t\t\t           22\n",
      "\n",
      "\n"
     ]
    }
   ],
   "source": [
    "with open('arrhythmia.names') as file:\n",
    "    print(file.read())"
   ]
  },
  {
   "cell_type": "code",
   "execution_count": 3,
   "metadata": {},
   "outputs": [],
   "source": [
    "feature_names=['Age','Sex','Height', 'Weight', 'QRS duration', 'P-R interval', 'Q-T interval','T interval', 'P interval', \n",
    "               'QRS', 'T', 'P', 'QRST', 'J', 'Heart rate', 'Q wave_DI', 'R wave_DI', 'S wave_DI', \"R' wave_DI\", \"S' wave_DI\",\n",
    "               'No_ID_DI', 'EoR_R wave_DI', 'EoDD_R wave_DI', 'EoR_P wave_DI', 'EoDD_P wave_DI', 'EoR_T wave_DI', \n",
    "               'EoDD_T wave_DI', 'Q wave_DII', 'R wave_DII', 'S wave_DII', \"R' wave_DII\", \"S' wave_DII\", 'No_ID_DII',\n",
    "               'EoR_R wave_DII', 'EoDD_R wave_DII', 'EoR_P wave_DII', 'EoDD_P wave_DII', 'EoR_T wave_DII', 'EoDD_T wave_DII',\n",
    "               'Q wave_DIII', 'R wave_DIII', 'S wave_DIII', \"R' wave_DIII\", \"S' wave_DIII\", 'No_ID_DIII', 'EoR_R wave_DIII',\n",
    "               'EoDD_R wave_DIII', 'EoR_P wave_DIII', 'EoDD_P wave_DIII', 'EoR_T wave_DIII', 'EoDD_T wave_DIII', 'Q wave_AVR',\n",
    "               'R wave_AVR', 'S wave_AVR', \"R' wave_AVR\", \"S' wave_AVR\", 'No_ID_AVR', 'EoR_R wave_AVR', 'EoDD_R wave_AVR',\n",
    "               'EoR_P wave_AVR', 'EoDD_P wave_AVR', 'EoR_T wave_AVR', 'EoDD_T wave_AVR', 'Q wave_AVL', 'R wave_AVL',\n",
    "               'S wave_AVL', \"R' wave_AVL\", \"S' wave_AVL\", 'No_ID_AVL', 'EoR_R wave_AVL', 'EoDD_R wave_AVL', 'EoR_P wave_AVL',\n",
    "               'EoDD_P wave_AVL', 'EoR_T wave_AVL', 'EoDD_T wave_AVL', 'Q wave_AVF', 'R wave_AVF', 'S wave_AVF', \"R' wave_AVF\",\n",
    "               \"S' wave_AVF\", 'No_ID_AVF', 'EoR_R wave_AVF', 'EoDD_R wave_AVF', 'EoR_P wave_AVF', 'EoDD_P wave_AVF',\n",
    "               'EoR_T wave_AVF', 'EoDD_T wave_AVF', 'Q wave_V1', 'R wave_V1', 'S wave_V1', \"R' wave_V1\", \"S' wave_V1\",\n",
    "               'No_ID_V1', 'EoR_R wave_V1', 'EoDD_R wave_V1', 'EoR_P wave_V1', 'EoDD_P wave_V1', 'EoR_T wave_V1',\n",
    "               'EoDD_T wave_V1', 'Q wave_V2', 'R wave_V2', 'S wave_V2', \"R' wave_V2\", \"S' wave_V2\", 'No_ID_V2', 'EoR_R wave_V2',\n",
    "               'EoDD_R wave_V2', 'EoR_P wave_V2', 'EoDD_P wave_V2', 'EoR_T wave_V2', 'EoDD_T wave_V2', 'Q wave_V3', 'R wave_V3',\n",
    "               'S wave_V3', \"R' wave_V3\", \"S' wave_V3\", 'No_ID_V3', 'EoR_R wave_V3', 'EoDD_R wave_V3', 'EoR_P wave_V3',\n",
    "               'EoDD_P wave_V3', 'EoR_T wave_V3', 'EoDD_T wave_V3', 'Q wave_V4', 'R wave_V4', 'S wave_V4', \"R' wave_V4\",\n",
    "               \"S' wave_V4\", 'No_ID_V4', 'EoR_R wave_V4', 'EoDD_R wave_V4', 'EoR_P wave_V4', 'EoDD_P wave_V4', 'EoR_T wave_V4',\n",
    "               'EoDD_T wave_V4', 'Q wave_V5', 'R wave_V5', 'S wave_V5', \"R' wave_V5\", \"S' wave_V5\", 'No_ID_V5', 'EoR_R wave_V5',\n",
    "               'EoDD_R wave_V5', 'EoR_P wave_V5', 'EoDD_P wave_V5', 'EoR_T wave_V5', 'EoDD_T wave_V5', 'Q wave_V6','R wave_V6',\n",
    "               'S wave_V6', \"R' wave_V6\",\"S' wave_V6\", 'No_ID_V6', 'EoR_R wave_V6', 'EoDD_R wave_V6', 'EoR_P wave_V6',\n",
    "               'EoDD_P wave_V6', 'EoR_T wave_V6', 'EoDD_T wave_V6', '_JJ wave_DI', '_Q wave_DI','_R wave_DI', '_S wave_DI',\n",
    "               \"_R' wave_DI\", \"_S' wave_DI\", '_P wave_DI', '_T wave_DI', '_QRSA_DI', '_QRSTA_DI', '_JJ wave_DII', '_Q wave_DII', \n",
    "               '_R wave_DII', '_S wave_DII', \"_R' wave_DII\", \"_S' wave_DII\", '_P wave_DII', '_T wave_DII', '_QRSA_DII', '_QRSTA_DII',\n",
    "               '_JJ wave_DIII', '_Q wave_DIII', '_R wave_DIII', '_S wave_DIII', \"_R' wave_DIII\", \"_S' wave_DIII\", '_P wave_DIII',\n",
    "               '_T wave_DIII', '_QRSA_DIII', '_QRSTA_DIII', '_JJ wave_AVR', '_Q wave_AVR', '_R wave_AVR','_S wave_AVR',\n",
    "               \"_R' wave_AVR\", \"_S' wave_AVR\", '_P wave_AVR', '_T wave_AVR', '_QRSA_AVR', '_QRSTA_AVR', '_JJ wave_AVL', '_Q wave_AVL',\n",
    "               '_R wave_AVL', '_S wave_AVL', \"_R' wave_AVL\", \"_S' wave_AVL\", '_P wave_AVL', '_T wave_AVL','_QRSA_AVL', '_QRSTA_AVL',\n",
    "               '_JJ wave_AVF', '_Q wave_AVF', '_R wave_AVF', '_S wave_AVF', \"_R' wave_AVF\", \"_S' wave_AVF\", '_P wave_AVF',\n",
    "               '_T wave_AVF', '_QRSA_AVF', '_QRSTA_AVF', '_JJ wave_V1', '_Q wave_V1', '_R wave_V1', '_S wave_V1', \"_R' wave_V1\",\n",
    "               \"_S' wave_V1\", '_P wave_V1', '_T wave_V1', '_QRSA_V1', '_QRSTA_V1', '_JJ wave_V2', '_Q wave_V2', '_R wave_V2',\n",
    "               '_S wave_V2', \"_R' wave_V2\", \"_S' wave_V2\", '_P wave_V2', '_T wave_V2', '_QRSA_V2', '_QRSTA_V2',\n",
    "               '_JJ wave_V3', '_Q wave_V3', '_R wave_V3', '_S wave_V3', \"_R' wave_V3\", \"_S' wave_V3\", '_P wave_V3', '_T wave_V3',\n",
    "               '_QRSA_V3', '_QRSTA_V3', '_JJ wave_V4', '_Q wave_V4', '_R wave_V4', '_S wave_V4', \"_R' wave_V4\", \"_S' wave_V4\",\n",
    "               '_P wave_V4', '_T wave_V4', '_QRSA_V4', '_QRSTA_V4', '_JJ wave_V5', '_Q wave_V5', '_R wave_V5', '_S wave_V5',\n",
    "               \"_R' wave_V5\", \"_S' wave_V5\", '_P wave_V5', '_T wave_V5', '_QRSA_V5', '_QRSTA_V5', '_JJ wave_V6', '_Q wave_V6',\n",
    "               '_R wave_V6', '_S wave_V6', \"_R' wave_V6\", \"_S' wave_V6\", '_P wave_V6', '_T wave_V6', '_QRSA_V6', '_QRSTA_V6','Class']"
   ]
  },
  {
   "cell_type": "code",
   "execution_count": 4,
   "metadata": {},
   "outputs": [],
   "source": [
    "df=pd.read_csv('arrhythmia.data',names=feature_names,na_values=['?'],keep_default_na=True)"
   ]
  },
  {
   "cell_type": "code",
   "execution_count": 5,
   "metadata": {},
   "outputs": [
    {
     "data": {
      "text/html": [
       "<div>\n",
       "<style scoped>\n",
       "    .dataframe tbody tr th:only-of-type {\n",
       "        vertical-align: middle;\n",
       "    }\n",
       "\n",
       "    .dataframe tbody tr th {\n",
       "        vertical-align: top;\n",
       "    }\n",
       "\n",
       "    .dataframe thead th {\n",
       "        text-align: right;\n",
       "    }\n",
       "</style>\n",
       "<table border=\"1\" class=\"dataframe\">\n",
       "  <thead>\n",
       "    <tr style=\"text-align: right;\">\n",
       "      <th></th>\n",
       "      <th>Age</th>\n",
       "      <th>Sex</th>\n",
       "      <th>Height</th>\n",
       "      <th>Weight</th>\n",
       "      <th>QRS duration</th>\n",
       "      <th>P-R interval</th>\n",
       "      <th>Q-T interval</th>\n",
       "      <th>T interval</th>\n",
       "      <th>P interval</th>\n",
       "      <th>QRS</th>\n",
       "      <th>...</th>\n",
       "      <th>_Q wave_V6</th>\n",
       "      <th>_R wave_V6</th>\n",
       "      <th>_S wave_V6</th>\n",
       "      <th>_R' wave_V6</th>\n",
       "      <th>_S' wave_V6</th>\n",
       "      <th>_P wave_V6</th>\n",
       "      <th>_T wave_V6</th>\n",
       "      <th>_QRSA_V6</th>\n",
       "      <th>_QRSTA_V6</th>\n",
       "      <th>Class</th>\n",
       "    </tr>\n",
       "  </thead>\n",
       "  <tbody>\n",
       "    <tr>\n",
       "      <th>0</th>\n",
       "      <td>75</td>\n",
       "      <td>0</td>\n",
       "      <td>190</td>\n",
       "      <td>80</td>\n",
       "      <td>91</td>\n",
       "      <td>193</td>\n",
       "      <td>371</td>\n",
       "      <td>174</td>\n",
       "      <td>121</td>\n",
       "      <td>-16</td>\n",
       "      <td>...</td>\n",
       "      <td>0.0</td>\n",
       "      <td>9.0</td>\n",
       "      <td>-0.9</td>\n",
       "      <td>0.0</td>\n",
       "      <td>0.0</td>\n",
       "      <td>0.9</td>\n",
       "      <td>2.9</td>\n",
       "      <td>23.3</td>\n",
       "      <td>49.4</td>\n",
       "      <td>8</td>\n",
       "    </tr>\n",
       "    <tr>\n",
       "      <th>1</th>\n",
       "      <td>56</td>\n",
       "      <td>1</td>\n",
       "      <td>165</td>\n",
       "      <td>64</td>\n",
       "      <td>81</td>\n",
       "      <td>174</td>\n",
       "      <td>401</td>\n",
       "      <td>149</td>\n",
       "      <td>39</td>\n",
       "      <td>25</td>\n",
       "      <td>...</td>\n",
       "      <td>0.0</td>\n",
       "      <td>8.5</td>\n",
       "      <td>0.0</td>\n",
       "      <td>0.0</td>\n",
       "      <td>0.0</td>\n",
       "      <td>0.2</td>\n",
       "      <td>2.1</td>\n",
       "      <td>20.4</td>\n",
       "      <td>38.8</td>\n",
       "      <td>6</td>\n",
       "    </tr>\n",
       "    <tr>\n",
       "      <th>2</th>\n",
       "      <td>54</td>\n",
       "      <td>0</td>\n",
       "      <td>172</td>\n",
       "      <td>95</td>\n",
       "      <td>138</td>\n",
       "      <td>163</td>\n",
       "      <td>386</td>\n",
       "      <td>185</td>\n",
       "      <td>102</td>\n",
       "      <td>96</td>\n",
       "      <td>...</td>\n",
       "      <td>0.0</td>\n",
       "      <td>9.5</td>\n",
       "      <td>-2.4</td>\n",
       "      <td>0.0</td>\n",
       "      <td>0.0</td>\n",
       "      <td>0.3</td>\n",
       "      <td>3.4</td>\n",
       "      <td>12.3</td>\n",
       "      <td>49.0</td>\n",
       "      <td>10</td>\n",
       "    </tr>\n",
       "    <tr>\n",
       "      <th>3</th>\n",
       "      <td>55</td>\n",
       "      <td>0</td>\n",
       "      <td>175</td>\n",
       "      <td>94</td>\n",
       "      <td>100</td>\n",
       "      <td>202</td>\n",
       "      <td>380</td>\n",
       "      <td>179</td>\n",
       "      <td>143</td>\n",
       "      <td>28</td>\n",
       "      <td>...</td>\n",
       "      <td>0.0</td>\n",
       "      <td>12.2</td>\n",
       "      <td>-2.2</td>\n",
       "      <td>0.0</td>\n",
       "      <td>0.0</td>\n",
       "      <td>0.4</td>\n",
       "      <td>2.6</td>\n",
       "      <td>34.6</td>\n",
       "      <td>61.6</td>\n",
       "      <td>1</td>\n",
       "    </tr>\n",
       "    <tr>\n",
       "      <th>4</th>\n",
       "      <td>75</td>\n",
       "      <td>0</td>\n",
       "      <td>190</td>\n",
       "      <td>80</td>\n",
       "      <td>88</td>\n",
       "      <td>181</td>\n",
       "      <td>360</td>\n",
       "      <td>177</td>\n",
       "      <td>103</td>\n",
       "      <td>-16</td>\n",
       "      <td>...</td>\n",
       "      <td>0.0</td>\n",
       "      <td>13.1</td>\n",
       "      <td>-3.6</td>\n",
       "      <td>0.0</td>\n",
       "      <td>0.0</td>\n",
       "      <td>-0.1</td>\n",
       "      <td>3.9</td>\n",
       "      <td>25.4</td>\n",
       "      <td>62.8</td>\n",
       "      <td>7</td>\n",
       "    </tr>\n",
       "  </tbody>\n",
       "</table>\n",
       "<p>5 rows × 280 columns</p>\n",
       "</div>"
      ],
      "text/plain": [
       "   Age  Sex  Height  Weight  QRS duration  P-R interval  Q-T interval  \\\n",
       "0   75    0     190      80            91           193           371   \n",
       "1   56    1     165      64            81           174           401   \n",
       "2   54    0     172      95           138           163           386   \n",
       "3   55    0     175      94           100           202           380   \n",
       "4   75    0     190      80            88           181           360   \n",
       "\n",
       "   T interval  P interval  QRS  ...  _Q wave_V6  _R wave_V6  _S wave_V6  \\\n",
       "0         174         121  -16  ...         0.0         9.0        -0.9   \n",
       "1         149          39   25  ...         0.0         8.5         0.0   \n",
       "2         185         102   96  ...         0.0         9.5        -2.4   \n",
       "3         179         143   28  ...         0.0        12.2        -2.2   \n",
       "4         177         103  -16  ...         0.0        13.1        -3.6   \n",
       "\n",
       "   _R' wave_V6  _S' wave_V6  _P wave_V6  _T wave_V6  _QRSA_V6  _QRSTA_V6  \\\n",
       "0          0.0          0.0         0.9         2.9      23.3       49.4   \n",
       "1          0.0          0.0         0.2         2.1      20.4       38.8   \n",
       "2          0.0          0.0         0.3         3.4      12.3       49.0   \n",
       "3          0.0          0.0         0.4         2.6      34.6       61.6   \n",
       "4          0.0          0.0        -0.1         3.9      25.4       62.8   \n",
       "\n",
       "   Class  \n",
       "0      8  \n",
       "1      6  \n",
       "2     10  \n",
       "3      1  \n",
       "4      7  \n",
       "\n",
       "[5 rows x 280 columns]"
      ]
     },
     "execution_count": 5,
     "metadata": {},
     "output_type": "execute_result"
    }
   ],
   "source": [
    "df.head()"
   ]
  },
  {
   "cell_type": "code",
   "execution_count": 6,
   "metadata": {},
   "outputs": [
    {
     "data": {
      "text/plain": [
       "(452, 280)"
      ]
     },
     "execution_count": 6,
     "metadata": {},
     "output_type": "execute_result"
    }
   ],
   "source": [
    "df.shape"
   ]
  },
  {
   "cell_type": "code",
   "execution_count": 7,
   "metadata": {},
   "outputs": [
    {
     "name": "stdout",
     "output_type": "stream",
     "text": [
      "<class 'pandas.core.frame.DataFrame'>\n",
      "RangeIndex: 452 entries, 0 to 451\n",
      "Columns: 280 entries, Age to Class\n",
      "dtypes: float64(125), int64(155)\n",
      "memory usage: 988.9 KB\n"
     ]
    }
   ],
   "source": [
    "df.info()"
   ]
  },
  {
   "cell_type": "code",
   "execution_count": 8,
   "metadata": {},
   "outputs": [
    {
     "data": {
      "text/plain": [
       "Age             0\n",
       "Sex             0\n",
       "Height          0\n",
       "Weight          0\n",
       "QRS duration    0\n",
       "               ..\n",
       "_P wave_V6      0\n",
       "_T wave_V6      0\n",
       "_QRSA_V6        0\n",
       "_QRSTA_V6       0\n",
       "Class           0\n",
       "Length: 280, dtype: int64"
      ]
     },
     "execution_count": 8,
     "metadata": {},
     "output_type": "execute_result"
    }
   ],
   "source": [
    "df.isna().sum()"
   ]
  },
  {
   "cell_type": "code",
   "execution_count": 9,
   "metadata": {},
   "outputs": [
    {
     "data": {
      "text/plain": [
       "T               8\n",
       "P              22\n",
       "QRST            1\n",
       "J             376\n",
       "Heart rate      1\n",
       "dtype: int64"
      ]
     },
     "execution_count": 9,
     "metadata": {},
     "output_type": "execute_result"
    }
   ],
   "source": [
    "df.isna().sum()[df.isna().sum()>0]"
   ]
  },
  {
   "cell_type": "code",
   "execution_count": 10,
   "metadata": {},
   "outputs": [
    {
     "data": {
      "text/plain": [
       "<matplotlib.axes._subplots.AxesSubplot at 0x18370c89dd8>"
      ]
     },
     "execution_count": 10,
     "metadata": {},
     "output_type": "execute_result"
    },
    {
     "data": {
      "image/png": "[encoded data removed]",
      "text/plain": [
       "<Figure size 432x288 with 1 Axes>"
      ]
     },
     "metadata": {},
     "output_type": "display_data"
    }
   ],
   "source": [
    "sns.distplot(df['T'].dropna())"
   ]
  },
  {
   "cell_type": "code",
   "execution_count": 11,
   "metadata": {},
   "outputs": [
    {
     "data": {
      "text/plain": [
       "<matplotlib.axes._subplots.AxesSubplot at 0x18372da1c50>"
      ]
     },
     "execution_count": 11,
     "metadata": {},
     "output_type": "execute_result"
    },
    {
     "data": {
      "image/png": "[encoded data removed]",
      "text/plain": [
       "<Figure size 432x288 with 1 Axes>"
      ]
     },
     "metadata": {},
     "output_type": "display_data"
    }
   ],
   "source": [
    "sns.distplot(df['P'].dropna())"
   ]
  },
  {
   "cell_type": "code",
   "execution_count": 12,
   "metadata": {},
   "outputs": [],
   "source": [
    "df['T'].fillna(df['T'].mean(),inplace=True)"
   ]
  },
  {
   "cell_type": "code",
   "execution_count": 13,
   "metadata": {},
   "outputs": [],
   "source": [
    "df['P'].fillna(df['P'].mean(),inplace=True)"
   ]
  },
  {
   "cell_type": "code",
   "execution_count": 14,
   "metadata": {},
   "outputs": [],
   "source": [
    "df.drop(columns=['J'],inplace=True)"
   ]
  },
  {
   "cell_type": "code",
   "execution_count": 15,
   "metadata": {},
   "outputs": [],
   "source": [
    "df.dropna(inplace=True)"
   ]
  },
  {
   "cell_type": "code",
   "execution_count": 16,
   "metadata": {},
   "outputs": [
    {
     "data": {
      "text/plain": [
       "<matplotlib.axes._subplots.AxesSubplot at 0x18372f11f60>"
      ]
     },
     "execution_count": 16,
     "metadata": {},
     "output_type": "execute_result"
    },
    {
     "data": {
      "image/png": "[encoded data removed]",
      "text/plain": [
       "<Figure size 1296x864 with 2 Axes>"
      ]
     },
     "metadata": {},
     "output_type": "display_data"
    }
   ],
   "source": [
    "plt.figure(figsize=(18,12))\n",
    "sns.heatmap(df.isna())"
   ]
  },
  {
   "cell_type": "code",
   "execution_count": 17,
   "metadata": {},
   "outputs": [
    {
     "data": {
      "text/plain": [
       "<matplotlib.axes._subplots.AxesSubplot at 0x18373b14278>"
      ]
     },
     "execution_count": 17,
     "metadata": {},
     "output_type": "execute_result"
    },
    {
     "data": {
      "image/png": "[encoded data removed]",
      "text/plain": [
       "<Figure size 432x288 with 1 Axes>"
      ]
     },
     "metadata": {},
     "output_type": "display_data"
    }
   ],
   "source": [
    "sns.countplot('Class',data=df)"
   ]
  },
  {
   "cell_type": "code",
   "execution_count": 18,
   "metadata": {},
   "outputs": [
    {
     "data": {
      "text/plain": [
       "1     244\n",
       "10     50\n",
       "2      44\n",
       "6      25\n",
       "16     22\n",
       "4      15\n",
       "3      15\n",
       "5      13\n",
       "9       9\n",
       "15      5\n",
       "14      4\n",
       "8       2\n",
       "7       2\n",
       "Name: Class, dtype: int64"
      ]
     },
     "execution_count": 18,
     "metadata": {},
     "output_type": "execute_result"
    }
   ],
   "source": [
    "df['Class'].value_counts()"
   ]
  },
  {
   "cell_type": "markdown",
   "metadata": {},
   "source": [
    "# Training First Model"
   ]
  },
  {
   "cell_type": "code",
   "execution_count": 19,
   "metadata": {},
   "outputs": [],
   "source": [
    "X=df.drop(columns=['Class'])\n",
    "y=df['Class']"
   ]
  },
  {
   "cell_type": "code",
   "execution_count": 20,
   "metadata": {},
   "outputs": [],
   "source": [
    "from sklearn.model_selection import train_test_split"
   ]
  },
  {
   "cell_type": "code",
   "execution_count": 21,
   "metadata": {},
   "outputs": [],
   "source": [
    "x_train,x_test,y_train,y_test=train_test_split(X,y,test_size=0.2,random_state=0)"
   ]
  },
  {
   "cell_type": "code",
   "execution_count": 22,
   "metadata": {},
   "outputs": [],
   "source": [
    "from sklearn.ensemble import RandomForestClassifier"
   ]
  },
  {
   "cell_type": "code",
   "execution_count": 23,
   "metadata": {},
   "outputs": [],
   "source": [
    "clf=RandomForestClassifier()"
   ]
  },
  {
   "cell_type": "code",
   "execution_count": 24,
   "metadata": {},
   "outputs": [
    {
     "data": {
      "text/plain": [
       "RandomForestClassifier(bootstrap=True, ccp_alpha=0.0, class_weight=None,\n",
       "                       criterion='gini', max_depth=None, max_features='auto',\n",
       "                       max_leaf_nodes=None, max_samples=None,\n",
       "                       min_impurity_decrease=0.0, min_impurity_split=None,\n",
       "                       min_samples_leaf=1, min_samples_split=2,\n",
       "                       min_weight_fraction_leaf=0.0, n_estimators=100,\n",
       "                       n_jobs=None, oob_score=False, random_state=None,\n",
       "                       verbose=0, warm_start=False)"
      ]
     },
     "execution_count": 24,
     "metadata": {},
     "output_type": "execute_result"
    }
   ],
   "source": [
    "clf.fit(x_train,y_train)"
   ]
  },
  {
   "cell_type": "code",
   "execution_count": 25,
   "metadata": {},
   "outputs": [],
   "source": [
    "y_pred=clf.predict(x_test)"
   ]
  },
  {
   "cell_type": "code",
   "execution_count": 26,
   "metadata": {},
   "outputs": [],
   "source": [
    "from sklearn.metrics import accuracy_score,classification_report"
   ]
  },
  {
   "cell_type": "code",
   "execution_count": 27,
   "metadata": {},
   "outputs": [
    {
     "data": {
      "text/plain": [
       "0.7555555555555555"
      ]
     },
     "execution_count": 27,
     "metadata": {},
     "output_type": "execute_result"
    }
   ],
   "source": [
    "accuracy_score(y_test,y_pred)"
   ]
  },
  {
   "cell_type": "code",
   "execution_count": 28,
   "metadata": {},
   "outputs": [
    {
     "name": "stdout",
     "output_type": "stream",
     "text": [
      "              precision    recall  f1-score   support\n",
      "\n",
      "           1       0.80      0.95      0.87        56\n",
      "           2       0.75      0.67      0.71         9\n",
      "           3       0.67      1.00      0.80         2\n",
      "           4       1.00      0.33      0.50         3\n",
      "           5       0.00      0.00      0.00         3\n",
      "           6       0.00      0.00      0.00         6\n",
      "           7       0.00      0.00      0.00         1\n",
      "           9       1.00      1.00      1.00         1\n",
      "          10       0.62      0.71      0.67         7\n",
      "          15       0.00      0.00      0.00         1\n",
      "          16       0.00      0.00      0.00         1\n",
      "\n",
      "    accuracy                           0.76        90\n",
      "   macro avg       0.44      0.42      0.41        90\n",
      "weighted avg       0.68      0.76      0.71        90\n",
      "\n"
     ]
    },
    {
     "name": "stderr",
     "output_type": "stream",
     "text": [
      "C:\\ProgramData\\Anaconda3\\lib\\site-packages\\sklearn\\metrics\\_classification.py:1272: UndefinedMetricWarning: Precision and F-score are ill-defined and being set to 0.0 in labels with no predicted samples. Use `zero_division` parameter to control this behavior.\n",
      "  _warn_prf(average, modifier, msg_start, len(result))\n"
     ]
    }
   ],
   "source": [
    "print(classification_report(y_test,y_pred))"
   ]
  },
  {
   "cell_type": "code",
   "execution_count": 29,
   "metadata": {},
   "outputs": [],
   "source": [
    "from sklearn.model_selection import cross_val_score"
   ]
  },
  {
   "cell_type": "code",
   "execution_count": 30,
   "metadata": {},
   "outputs": [],
   "source": [
    "scores = cross_val_score(RandomForestClassifier(), X, y, cv=2)"
   ]
  },
  {
   "cell_type": "code",
   "execution_count": 31,
   "metadata": {},
   "outputs": [
    {
     "name": "stdout",
     "output_type": "stream",
     "text": [
      "Accuracy: 0.6888888888888889 (+/- 0.026666666666666616)\n"
     ]
    }
   ],
   "source": [
    "print(f\"Accuracy: {scores.mean()} (+/- {scores.std() * 2})\")"
   ]
  },
  {
   "cell_type": "markdown",
   "metadata": {},
   "source": [
    "# Finding and removing correlated features"
   ]
  },
  {
   "cell_type": "code",
   "execution_count": 32,
   "metadata": {},
   "outputs": [
    {
     "name": "stdout",
     "output_type": "stream",
     "text": [
      "Correlated columns: {\"_S' wave_DII\", '_Q wave_V4', \"_S' wave_AVF\", \"_S' wave_V4\", '_Q wave_AVF', '_Q wave_DII', '_R wave_AVF', \"_R' wave_V2\", '_T wave_V5', \"_R' wave_DIII\", '_QRSTA_DIII', '_Q wave_V5', '_T wave_AVF', '_QRSA_AVF', '_Q wave_V2', '_R wave_V3', '_QRSTA_V6', \"_S' wave_DIII\", '_JJ wave_AVR', \"_R' wave_AVR\", '_QRSA_AVL', '_QRSTA_AVL', 'No_ID_V3', '_Q wave_DI', \"_R' wave_DII\", '_S wave_V6', \"_R' wave_V6\", \"_S' wave_V3\", '_JJ wave_V4', '_P wave_AVF', '_P wave_V6', '_T wave_AVR', \"_R' wave_AVL\", 'No_ID_V6', \"_S' wave_AVR\", '_T wave_AVL', 'EoR_P wave_V6', '_R wave_V6', \"_R' wave_V5\", \"_R' wave_AVF\", '_Q wave_V3', '_QRSTA_V5', '_S wave_AVF', \"_R' wave_DI\", '_S wave_AVR', '_R wave_AVL', '_Q wave_AVL', 'S wave_V1', \"_S' wave_V2\", '_Q wave_V6', '_JJ wave_AVL', \"_R' wave_V3\", '_Q wave_V1', '_T wave_V6', \"_R' wave_V4\", \"S' wave_V3\", '_QRSTA_AVF', \"_S' wave_V1\", 'Q wave_V6', '_P wave_V5', '_QRSA_V4'}\n"
     ]
    }
   ],
   "source": [
    "# Build a func. to create a set of highly correlatedolumns\n",
    "\n",
    "def correlation(dataset,threshold):\n",
    "    col_corr=set() # set will contains unique values.\n",
    "    corr_matrix=dataset.corr() #finding the correlation between columns.\n",
    "    for i in range(len(corr_matrix.columns)): #number of columns\n",
    "        for j in range(i):\n",
    "            if abs(corr_matrix.iloc[i,j])>threshold: #checking the correlation between columns.\n",
    "                colName=corr_matrix.columns[i] #getting the column name\n",
    "                col_corr.add(colName) #adding the correlated column name heigher than threshold value.\n",
    "    return col_corr #returning set of column names\n",
    "\n",
    "col=correlation(x_train,0.8)\n",
    "print('Correlated columns:',col) "
   ]
  },
  {
   "cell_type": "code",
   "execution_count": 33,
   "metadata": {},
   "outputs": [],
   "source": [
    "df1=df.drop(columns=col)"
   ]
  },
  {
   "cell_type": "code",
   "execution_count": 34,
   "metadata": {},
   "outputs": [],
   "source": [
    "X=df1.drop(columns=['Class'])\n",
    "y=df1['Class']"
   ]
  },
  {
   "cell_type": "code",
   "execution_count": 35,
   "metadata": {},
   "outputs": [],
   "source": [
    "x_train,x_test,y_train,y_test=train_test_split(X,y,test_size=0.2,random_state=0)"
   ]
  },
  {
   "cell_type": "markdown",
   "metadata": {},
   "source": [
    "# Training model with new sets of features"
   ]
  },
  {
   "cell_type": "code",
   "execution_count": 36,
   "metadata": {},
   "outputs": [],
   "source": [
    "clf=RandomForestClassifier()"
   ]
  },
  {
   "cell_type": "code",
   "execution_count": 37,
   "metadata": {},
   "outputs": [
    {
     "data": {
      "text/plain": [
       "RandomForestClassifier(bootstrap=True, ccp_alpha=0.0, class_weight=None,\n",
       "                       criterion='gini', max_depth=None, max_features='auto',\n",
       "                       max_leaf_nodes=None, max_samples=None,\n",
       "                       min_impurity_decrease=0.0, min_impurity_split=None,\n",
       "                       min_samples_leaf=1, min_samples_split=2,\n",
       "                       min_weight_fraction_leaf=0.0, n_estimators=100,\n",
       "                       n_jobs=None, oob_score=False, random_state=None,\n",
       "                       verbose=0, warm_start=False)"
      ]
     },
     "execution_count": 37,
     "metadata": {},
     "output_type": "execute_result"
    }
   ],
   "source": [
    "clf.fit(x_train,y_train)"
   ]
  },
  {
   "cell_type": "code",
   "execution_count": 38,
   "metadata": {},
   "outputs": [],
   "source": [
    "y_pred=clf.predict(x_test)"
   ]
  },
  {
   "cell_type": "code",
   "execution_count": 39,
   "metadata": {},
   "outputs": [],
   "source": [
    "from sklearn.metrics import accuracy_score,classification_report"
   ]
  },
  {
   "cell_type": "code",
   "execution_count": 40,
   "metadata": {},
   "outputs": [
    {
     "data": {
      "text/plain": [
       "0.7555555555555555"
      ]
     },
     "execution_count": 40,
     "metadata": {},
     "output_type": "execute_result"
    }
   ],
   "source": [
    "accuracy_score(y_test,y_pred)"
   ]
  },
  {
   "cell_type": "code",
   "execution_count": 41,
   "metadata": {},
   "outputs": [
    {
     "name": "stdout",
     "output_type": "stream",
     "text": [
      "              precision    recall  f1-score   support\n",
      "\n",
      "           1       0.79      0.95      0.86        56\n",
      "           2       0.80      0.44      0.57         9\n",
      "           3       0.67      1.00      0.80         2\n",
      "           4       0.50      0.33      0.40         3\n",
      "           5       0.00      0.00      0.00         3\n",
      "           6       1.00      0.33      0.50         6\n",
      "           7       0.00      0.00      0.00         1\n",
      "           9       1.00      1.00      1.00         1\n",
      "          10       0.50      0.71      0.59         7\n",
      "          15       0.00      0.00      0.00         1\n",
      "          16       0.00      0.00      0.00         1\n",
      "\n",
      "    accuracy                           0.76        90\n",
      "   macro avg       0.48      0.43      0.43        90\n",
      "weighted avg       0.72      0.76      0.71        90\n",
      "\n"
     ]
    },
    {
     "name": "stderr",
     "output_type": "stream",
     "text": [
      "C:\\ProgramData\\Anaconda3\\lib\\site-packages\\sklearn\\metrics\\_classification.py:1272: UndefinedMetricWarning: Precision and F-score are ill-defined and being set to 0.0 in labels with no predicted samples. Use `zero_division` parameter to control this behavior.\n",
      "  _warn_prf(average, modifier, msg_start, len(result))\n"
     ]
    }
   ],
   "source": [
    "print(classification_report(y_test,y_pred))"
   ]
  },
  {
   "cell_type": "code",
   "execution_count": 42,
   "metadata": {},
   "outputs": [],
   "source": [
    "scores = cross_val_score(RandomForestClassifier(), X, y, cv=2)"
   ]
  },
  {
   "cell_type": "code",
   "execution_count": 43,
   "metadata": {},
   "outputs": [
    {
     "name": "stdout",
     "output_type": "stream",
     "text": [
      "Accuracy: 0.6977777777777778 (+/- 0.053333333333333344)\n"
     ]
    }
   ],
   "source": [
    "print(f\"Accuracy: {scores.mean()} (+/- {scores.std() * 2})\")"
   ]
  }
 ],
 "metadata": {
  "kernelspec": {
   "display_name": "'Python Interactive'",
   "language": "python",
   "name": "5473b972-ada4-4097-9c4d-16b6589567f0"
  },
  "language_info": {
   "codemirror_mode": {
    "name": "ipython",
    "version": 3
   },
   "file_extension": ".py",
   "mimetype": "text/x-python",
   "name": "python",
   "nbconvert_exporter": "python",
   "pygments_lexer": "ipython3",
   "version": "3.6.5"
  }
 },
 "nbformat": 4,
 "nbformat_minor": 2
}
